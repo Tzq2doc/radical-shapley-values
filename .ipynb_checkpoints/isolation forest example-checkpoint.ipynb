{
 "cells": [
  {
   "cell_type": "code",
   "execution_count": 47,
   "metadata": {},
   "outputs": [],
   "source": [
    "import numpy as np\n",
    "import pandas as pd\n",
    "import shap\n",
    "from sklearn.ensemble import IsolationForest\n",
    "\n",
    "import time\n",
    "import warnings\n",
    "\n",
    "from radical_shapley_values import compute_shapley_values\n",
    "from radical_shapley_values import shap_payoff_isolation_forest as shap_if"
   ]
  },
  {
   "cell_type": "code",
   "execution_count": 48,
   "metadata": {},
   "outputs": [],
   "source": [
    "# Load dataset\n",
    "df = pd.read_csv('data\\creditcard.csv')\n",
    "y = df['Class']\n",
    "X = df.drop('Class', axis=1)"
   ]
  },
  {
   "cell_type": "code",
   "execution_count": 49,
   "metadata": {},
   "outputs": [],
   "source": [
    "#%% Choose data size\n",
    "ns = 10**5\n",
    "nf = 15\n",
    "\n",
    "X = X[X.columns[0:nf]][0:ns]\n",
    "y = y[0:ns]"
   ]
  },
  {
   "cell_type": "code",
   "execution_count": 50,
   "metadata": {},
   "outputs": [
    {
     "data": {
      "text/plain": [
       "(100000, 15)"
      ]
     },
     "execution_count": 50,
     "metadata": {},
     "output_type": "execute_result"
    }
   ],
   "source": [
    "X.shape"
   ]
  },
  {
   "cell_type": "code",
   "execution_count": 51,
   "metadata": {},
   "outputs": [
    {
     "name": "stdout",
     "output_type": "stream",
     "text": [
      "Isolation forest training time: 8.152.\n",
      "Isolation forest whole dataset prediction time: 7.751.\n"
     ]
    }
   ],
   "source": [
    "# Initialize model and SHAP explainer, test training and prediction time\n",
    "n_background_samp = 100\n",
    "\n",
    "model = IsolationForest(behaviour = 'new', random_state = 1, contamination = 0)\n",
    "\n",
    "start = time.time()\n",
    "model.fit(X)\n",
    "end = time.time()\n",
    "print('Isolation forest training time: %.3f.' %(end-start))\n",
    "\n",
    "start = time.time()\n",
    "model.decision_function(X)\n",
    "end = time.time()\n",
    "print('Isolation forest whole dataset prediction time: %.3f.' %(end-start))\n",
    "\n",
    "explainer = shap.KernelExplainer(model.decision_function,X[0:n_background_samp])"
   ]
  },
  {
   "cell_type": "code",
   "execution_count": 57,
   "metadata": {},
   "outputs": [
    {
     "name": "stdout",
     "output_type": "stream",
     "text": [
      "Isolation Forest prediction time: 16.582. Per sample: 0.000\n"
     ]
    }
   ],
   "source": [
    "# test prediction time for the KernelExplainer's bootstrapped dataset size\n",
    "num_samples_to_predict = (2048+15*2)*100\n",
    "\n",
    "x = X.sample(n=num_samples_to_predict, replace=True)\n",
    "\n",
    "start = time.time()\n",
    "yp = model.decision_function(x)\n",
    "end = time.time()\n",
    "\n",
    "print('Isolation Forest prediction time: %.3f. Per sample: %.3f' %(end-start, (end-start)/num_samples_to_predict))"
   ]
  },
  {
   "cell_type": "code",
   "execution_count": 59,
   "metadata": {},
   "outputs": [
    {
     "data": {
      "application/vnd.jupyter.widget-view+json": {
       "model_id": "269d59518ce543079679de5243f7c218",
       "version_major": 2,
       "version_minor": 0
      },
      "text/plain": [
       "HBox(children=(IntProgress(value=0, max=1), HTML(value='')))"
      ]
     },
     "metadata": {},
     "output_type": "display_data"
    },
    {
     "name": "stdout",
     "output_type": "stream",
     "text": [
      "\n",
      "Kernel SHAP values run time: 18.157. Per sample: 18.157\n"
     ]
    }
   ],
   "source": [
    "# Run KernelExplainer\n",
    "num_samples_to_explain = 1\n",
    "x = X.sample(n=num_samples_to_explain)\n",
    "\n",
    "start = time.time()\n",
    "with warnings.catch_warnings():\n",
    "    warnings.simplefilter(\"ignore\")\n",
    "    SHAP_values = explainer.shap_values(x)\n",
    "end = time.time()\n",
    "print('Kernel SHAP values run time: %.3f. Per sample: %.3f' %(end-start, (end-start)/num_samples_to_explain))"
   ]
  },
  {
   "cell_type": "code",
   "execution_count": null,
   "metadata": {},
   "outputs": [],
   "source": []
  }
 ],
 "metadata": {
  "kernelspec": {
   "display_name": "Python 3",
   "language": "python",
   "name": "python3"
  },
  "language_info": {
   "codemirror_mode": {
    "name": "ipython",
    "version": 3
   },
   "file_extension": ".py",
   "mimetype": "text/x-python",
   "name": "python",
   "nbconvert_exporter": "python",
   "pygments_lexer": "ipython3",
   "version": "3.7.3"
  }
 },
 "nbformat": 4,
 "nbformat_minor": 2
}
